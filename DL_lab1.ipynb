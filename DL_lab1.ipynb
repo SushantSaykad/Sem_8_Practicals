{
  "nbformat": 4,
  "nbformat_minor": 0,
  "metadata": {
    "colab": {
      "provenance": [],
      "authorship_tag": "ABX9TyPVoXa23Gd+6nVV8B9HrhdL",
      "include_colab_link": true
    },
    "kernelspec": {
      "name": "python3",
      "display_name": "Python 3"
    },
    "language_info": {
      "name": "python"
    }
  },
  "cells": [
    {
      "cell_type": "markdown",
      "metadata": {
        "id": "view-in-github",
        "colab_type": "text"
      },
      "source": [
        "<a href=\"https://colab.research.google.com/github/SushantSaykad/Sem_8_Practicals/blob/main/DL_lab1.ipynb\" target=\"_parent\"><img src=\"https://colab.research.google.com/assets/colab-badge.svg\" alt=\"Open In Colab\"/></a>"
      ]
    },
    {
      "cell_type": "code",
      "source": [
        "import numpy as np\n",
        "import pandas as pd\n",
        "from sklearn.model_selection import train_test_split\n",
        "from sklearn.preprocessing import StandardScaler\n",
        "from tensorflow.keras.models import Sequential\n",
        "from tensorflow.keras.layers import Dense\n"
      ],
      "metadata": {
        "id": "2aXjqHDwllkS"
      },
      "execution_count": 7,
      "outputs": []
    },
    {
      "cell_type": "code",
      "source": [
        "data_url = \"http://lib.stat.cmu.edu/datasets/boston\"\n",
        "raw_df = pd.read_csv(data_url, sep=\"\\s+\", skiprows=22, header=None)\n",
        "data = np.hstack([raw_df.values[::2, :], raw_df.values[1::2, :2]])\n",
        "target = raw_df.values[1::2, 2]\n"
      ],
      "metadata": {
        "id": "OE6pSFrQlrTE"
      },
      "execution_count": 8,
      "outputs": []
    },
    {
      "cell_type": "code",
      "source": [
        "X_train, X_test, y_train, y_test = train_test_split(data, target, test_size=0.2, random_state=42)\n"
      ],
      "metadata": {
        "id": "X6D6UtHJlv1i"
      },
      "execution_count": 9,
      "outputs": []
    },
    {
      "cell_type": "code",
      "source": [
        "scaler = StandardScaler()\n",
        "X_train = scaler.fit_transform(X_train)\n",
        "X_test = scaler.transform(X_test)\n"
      ],
      "metadata": {
        "id": "862Wv14al1p3"
      },
      "execution_count": 10,
      "outputs": []
    },
    {
      "cell_type": "code",
      "source": [
        "model = Sequential()\n",
        "model.add(Dense(1, input_dim=X_train.shape[1]))\n"
      ],
      "metadata": {
        "id": "zUc6FXkTl468"
      },
      "execution_count": 11,
      "outputs": []
    },
    {
      "cell_type": "code",
      "source": [
        "model.compile(loss='mean_squared_error', optimizer='adam')\n",
        "model.fit(X_train, y_train, epochs=100, batch_size=32, verbose=1)\n"
      ],
      "metadata": {
        "colab": {
          "base_uri": "https://localhost:8080/"
        },
        "id": "0KFYPVfKmBXZ",
        "outputId": "98e914ce-2a5b-4e5e-aa4c-eeb579c375f8"
      },
      "execution_count": 12,
      "outputs": [
        {
          "output_type": "stream",
          "name": "stdout",
          "text": [
            "Epoch 1/100\n",
            "13/13 [==============================] - 1s 2ms/step - loss: 590.5862\n",
            "Epoch 2/100\n",
            "13/13 [==============================] - 0s 2ms/step - loss: 589.3752\n",
            "Epoch 3/100\n",
            "13/13 [==============================] - 0s 2ms/step - loss: 588.1618\n",
            "Epoch 4/100\n",
            "13/13 [==============================] - 0s 2ms/step - loss: 586.9542\n",
            "Epoch 5/100\n",
            "13/13 [==============================] - 0s 2ms/step - loss: 585.7403\n",
            "Epoch 6/100\n",
            "13/13 [==============================] - 0s 2ms/step - loss: 584.6241\n",
            "Epoch 7/100\n",
            "13/13 [==============================] - 0s 2ms/step - loss: 583.3636\n",
            "Epoch 8/100\n",
            "13/13 [==============================] - 0s 2ms/step - loss: 582.2291\n",
            "Epoch 9/100\n",
            "13/13 [==============================] - 0s 2ms/step - loss: 581.1307\n",
            "Epoch 10/100\n",
            "13/13 [==============================] - 0s 2ms/step - loss: 579.9912\n",
            "Epoch 11/100\n",
            "13/13 [==============================] - 0s 2ms/step - loss: 578.8389\n",
            "Epoch 12/100\n",
            "13/13 [==============================] - 0s 2ms/step - loss: 577.7624\n",
            "Epoch 13/100\n",
            "13/13 [==============================] - 0s 2ms/step - loss: 576.6650\n",
            "Epoch 14/100\n",
            "13/13 [==============================] - 0s 2ms/step - loss: 575.6203\n",
            "Epoch 15/100\n",
            "13/13 [==============================] - 0s 2ms/step - loss: 574.5178\n",
            "Epoch 16/100\n",
            "13/13 [==============================] - 0s 2ms/step - loss: 573.5118\n",
            "Epoch 17/100\n",
            "13/13 [==============================] - 0s 2ms/step - loss: 572.4344\n",
            "Epoch 18/100\n",
            "13/13 [==============================] - 0s 2ms/step - loss: 571.3799\n",
            "Epoch 19/100\n",
            "13/13 [==============================] - 0s 2ms/step - loss: 570.3853\n",
            "Epoch 20/100\n",
            "13/13 [==============================] - 0s 2ms/step - loss: 569.3732\n",
            "Epoch 21/100\n",
            "13/13 [==============================] - 0s 2ms/step - loss: 568.3270\n",
            "Epoch 22/100\n",
            "13/13 [==============================] - 0s 2ms/step - loss: 567.3712\n",
            "Epoch 23/100\n",
            "13/13 [==============================] - 0s 2ms/step - loss: 566.3436\n",
            "Epoch 24/100\n",
            "13/13 [==============================] - 0s 2ms/step - loss: 565.3476\n",
            "Epoch 25/100\n",
            "13/13 [==============================] - 0s 2ms/step - loss: 564.3918\n",
            "Epoch 26/100\n",
            "13/13 [==============================] - 0s 2ms/step - loss: 563.4188\n",
            "Epoch 27/100\n",
            "13/13 [==============================] - 0s 2ms/step - loss: 562.4963\n",
            "Epoch 28/100\n",
            "13/13 [==============================] - 0s 2ms/step - loss: 561.5284\n",
            "Epoch 29/100\n",
            "13/13 [==============================] - 0s 2ms/step - loss: 560.5599\n",
            "Epoch 30/100\n",
            "13/13 [==============================] - 0s 2ms/step - loss: 559.6127\n",
            "Epoch 31/100\n",
            "13/13 [==============================] - 0s 2ms/step - loss: 558.7313\n",
            "Epoch 32/100\n",
            "13/13 [==============================] - 0s 2ms/step - loss: 557.7601\n",
            "Epoch 33/100\n",
            "13/13 [==============================] - 0s 2ms/step - loss: 556.8701\n",
            "Epoch 34/100\n",
            "13/13 [==============================] - 0s 2ms/step - loss: 555.9158\n",
            "Epoch 35/100\n",
            "13/13 [==============================] - 0s 2ms/step - loss: 555.0244\n",
            "Epoch 36/100\n",
            "13/13 [==============================] - 0s 2ms/step - loss: 554.1498\n",
            "Epoch 37/100\n",
            "13/13 [==============================] - 0s 2ms/step - loss: 553.2563\n",
            "Epoch 38/100\n",
            "13/13 [==============================] - 0s 2ms/step - loss: 552.3475\n",
            "Epoch 39/100\n",
            "13/13 [==============================] - 0s 2ms/step - loss: 551.4875\n",
            "Epoch 40/100\n",
            "13/13 [==============================] - 0s 2ms/step - loss: 550.6029\n",
            "Epoch 41/100\n",
            "13/13 [==============================] - 0s 2ms/step - loss: 549.7067\n",
            "Epoch 42/100\n",
            "13/13 [==============================] - 0s 2ms/step - loss: 548.8619\n",
            "Epoch 43/100\n",
            "13/13 [==============================] - 0s 2ms/step - loss: 548.0217\n",
            "Epoch 44/100\n",
            "13/13 [==============================] - 0s 2ms/step - loss: 547.1781\n",
            "Epoch 45/100\n",
            "13/13 [==============================] - 0s 3ms/step - loss: 546.3284\n",
            "Epoch 46/100\n",
            "13/13 [==============================] - 0s 2ms/step - loss: 545.5229\n",
            "Epoch 47/100\n",
            "13/13 [==============================] - 0s 2ms/step - loss: 544.6456\n",
            "Epoch 48/100\n",
            "13/13 [==============================] - 0s 2ms/step - loss: 543.8272\n",
            "Epoch 49/100\n",
            "13/13 [==============================] - 0s 2ms/step - loss: 543.0378\n",
            "Epoch 50/100\n",
            "13/13 [==============================] - 0s 2ms/step - loss: 542.2223\n",
            "Epoch 51/100\n",
            "13/13 [==============================] - 0s 2ms/step - loss: 541.3683\n",
            "Epoch 52/100\n",
            "13/13 [==============================] - 0s 2ms/step - loss: 540.6024\n",
            "Epoch 53/100\n",
            "13/13 [==============================] - 0s 2ms/step - loss: 539.8056\n",
            "Epoch 54/100\n",
            "13/13 [==============================] - 0s 2ms/step - loss: 539.0053\n",
            "Epoch 55/100\n",
            "13/13 [==============================] - 0s 2ms/step - loss: 538.2122\n",
            "Epoch 56/100\n",
            "13/13 [==============================] - 0s 2ms/step - loss: 537.4099\n",
            "Epoch 57/100\n",
            "13/13 [==============================] - 0s 2ms/step - loss: 536.6382\n",
            "Epoch 58/100\n",
            "13/13 [==============================] - 0s 2ms/step - loss: 535.8127\n",
            "Epoch 59/100\n",
            "13/13 [==============================] - 0s 2ms/step - loss: 535.0591\n",
            "Epoch 60/100\n",
            "13/13 [==============================] - 0s 2ms/step - loss: 534.2695\n",
            "Epoch 61/100\n",
            "13/13 [==============================] - 0s 2ms/step - loss: 533.4841\n",
            "Epoch 62/100\n",
            "13/13 [==============================] - 0s 2ms/step - loss: 532.7273\n",
            "Epoch 63/100\n",
            "13/13 [==============================] - 0s 2ms/step - loss: 531.9807\n",
            "Epoch 64/100\n",
            "13/13 [==============================] - 0s 2ms/step - loss: 531.1727\n",
            "Epoch 65/100\n",
            "13/13 [==============================] - 0s 2ms/step - loss: 530.4615\n",
            "Epoch 66/100\n",
            "13/13 [==============================] - 0s 2ms/step - loss: 529.6793\n",
            "Epoch 67/100\n",
            "13/13 [==============================] - 0s 2ms/step - loss: 528.9316\n",
            "Epoch 68/100\n",
            "13/13 [==============================] - 0s 2ms/step - loss: 528.1813\n",
            "Epoch 69/100\n",
            "13/13 [==============================] - 0s 2ms/step - loss: 527.4714\n",
            "Epoch 70/100\n",
            "13/13 [==============================] - 0s 2ms/step - loss: 526.6808\n",
            "Epoch 71/100\n",
            "13/13 [==============================] - 0s 2ms/step - loss: 525.9572\n",
            "Epoch 72/100\n",
            "13/13 [==============================] - 0s 2ms/step - loss: 525.2101\n",
            "Epoch 73/100\n",
            "13/13 [==============================] - 0s 2ms/step - loss: 524.5099\n",
            "Epoch 74/100\n",
            "13/13 [==============================] - 0s 2ms/step - loss: 523.7731\n",
            "Epoch 75/100\n",
            "13/13 [==============================] - 0s 2ms/step - loss: 523.0269\n",
            "Epoch 76/100\n",
            "13/13 [==============================] - 0s 2ms/step - loss: 522.3042\n",
            "Epoch 77/100\n",
            "13/13 [==============================] - 0s 2ms/step - loss: 521.5833\n",
            "Epoch 78/100\n",
            "13/13 [==============================] - 0s 2ms/step - loss: 520.8348\n",
            "Epoch 79/100\n",
            "13/13 [==============================] - 0s 2ms/step - loss: 520.1571\n",
            "Epoch 80/100\n",
            "13/13 [==============================] - 0s 2ms/step - loss: 519.4070\n",
            "Epoch 81/100\n",
            "13/13 [==============================] - 0s 2ms/step - loss: 518.7031\n",
            "Epoch 82/100\n",
            "13/13 [==============================] - 0s 2ms/step - loss: 517.9724\n",
            "Epoch 83/100\n",
            "13/13 [==============================] - 0s 2ms/step - loss: 517.2760\n",
            "Epoch 84/100\n",
            "13/13 [==============================] - 0s 2ms/step - loss: 516.5373\n",
            "Epoch 85/100\n",
            "13/13 [==============================] - 0s 2ms/step - loss: 515.8471\n",
            "Epoch 86/100\n",
            "13/13 [==============================] - 0s 2ms/step - loss: 515.1336\n",
            "Epoch 87/100\n",
            "13/13 [==============================] - 0s 2ms/step - loss: 514.4642\n",
            "Epoch 88/100\n",
            "13/13 [==============================] - 0s 4ms/step - loss: 513.7227\n",
            "Epoch 89/100\n",
            "13/13 [==============================] - 0s 3ms/step - loss: 513.0495\n",
            "Epoch 90/100\n",
            "13/13 [==============================] - 0s 4ms/step - loss: 512.3536\n",
            "Epoch 91/100\n",
            "13/13 [==============================] - 0s 4ms/step - loss: 511.6436\n",
            "Epoch 92/100\n",
            "13/13 [==============================] - 0s 3ms/step - loss: 510.9867\n",
            "Epoch 93/100\n",
            "13/13 [==============================] - 0s 3ms/step - loss: 510.2601\n",
            "Epoch 94/100\n",
            "13/13 [==============================] - 0s 3ms/step - loss: 509.5797\n",
            "Epoch 95/100\n",
            "13/13 [==============================] - 0s 3ms/step - loss: 508.8907\n",
            "Epoch 96/100\n",
            "13/13 [==============================] - 0s 3ms/step - loss: 508.2037\n",
            "Epoch 97/100\n",
            "13/13 [==============================] - 0s 3ms/step - loss: 507.5341\n",
            "Epoch 98/100\n",
            "13/13 [==============================] - 0s 3ms/step - loss: 506.8485\n",
            "Epoch 99/100\n",
            "13/13 [==============================] - 0s 3ms/step - loss: 506.1824\n",
            "Epoch 100/100\n",
            "13/13 [==============================] - 0s 3ms/step - loss: 505.5183\n"
          ]
        },
        {
          "output_type": "execute_result",
          "data": {
            "text/plain": [
              "<keras.callbacks.History at 0x7f706517f2b0>"
            ]
          },
          "metadata": {},
          "execution_count": 12
        }
      ]
    },
    {
      "cell_type": "code",
      "source": [
        "mse = model.evaluate(X_test, y_test)\n",
        "print(\"Mean Squared Error:\", mse)\n"
      ],
      "metadata": {
        "colab": {
          "base_uri": "https://localhost:8080/"
        },
        "id": "qosuMF_amEsl",
        "outputId": "bebfa4bb-a787-4c0f-d770-724f314af3a2"
      },
      "execution_count": 13,
      "outputs": [
        {
          "output_type": "stream",
          "name": "stdout",
          "text": [
            "4/4 [==============================] - 0s 4ms/step - loss: 471.0643\n",
            "Mean Squared Error: 471.0643005371094\n"
          ]
        }
      ]
    }
  ]
}